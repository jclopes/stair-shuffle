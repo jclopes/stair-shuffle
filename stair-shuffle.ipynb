{
 "cells": [
  {
   "cell_type": "code",
   "execution_count": 89,
   "metadata": {},
   "outputs": [],
   "source": [
    "from functools import reduce\n",
    "\n",
    "\n",
    "def riffle_shuffle(toshuffle):\n",
    "    mid = int(len(toshuffle) / 2)\n",
    "    bot = toshuffle[:mid]\n",
    "    top = toshuffle[mid:]\n",
    "    overflow = list()\n",
    "    \n",
    "    if (len(top) > len(bot)):\n",
    "        overflow.append(top.pop())\n",
    "    \n",
    "    res = reduce(lambda acc, e: acc + list(e), zip(bot, top), [])\n",
    "    res.extend(overflow)\n",
    "    \n",
    "    return res\n",
    "\n",
    "\n",
    "def stair_shuffle(toshuffle, n):\n",
    "    block = [[] for x in range(n)]\n",
    "    \n",
    "    while(toshuffle):  # while there are elements in the list\n",
    "        i = n\n",
    "        while(i > 0 and toshuffle):\n",
    "            j = 0\n",
    "            while (j < i and toshuffle):\n",
    "                e = toshuffle.pop(0)\n",
    "                block[j].insert(0, e)\n",
    "                j += 1\n",
    "            i -= 1\n",
    "    \n",
    "    res = []\n",
    "    [res.extend(b) for b in block]\n",
    "    return res\n",
    "\n",
    "\n",
    "def bucket_shuffle(toshuffle, n):\n",
    "    block = [[] for x in range(n)]\n",
    "    \n",
    "    while(toshuffle):\n",
    "        i = n\n",
    "        while(i > 0 and toshuffle):\n",
    "            for j in range(i):\n",
    "                e = toshuffle.pop(0)\n",
    "                block[j].insert(0, e)\n",
    "                if (not toshuffle):\n",
    "                    break    \n",
    "\n",
    "    res = []\n",
    "    [res.extend(b) for b in block]\n",
    "    return res\n",
    "\n",
    "\n",
    "def displacement(indexlist, positionlist):\n",
    "    delta = [b - a for a,b in zip(indexlist, positionlist)]\n",
    "    res = dict()\n",
    "    for i in delta:\n",
    "        res[i] = res.get(i, 0) + 1\n",
    "    xx = []\n",
    "    yy = []\n",
    "    for i in range(min(delta), max(delta)+1):\n",
    "        xx.append(i)\n",
    "        yy.append(res.get(i, 0))\n",
    "\n",
    "    return (xx, yy)"
   ]
  },
  {
   "cell_type": "code",
   "execution_count": 111,
   "metadata": {},
   "outputs": [],
   "source": [
    "from random import shuffle\n",
    "\n",
    "sortedlist = list(range(1, 53))\n",
    "randomlist = sortedlist.copy()\n",
    "shuffle(randomlist)\n",
    "a_randomlist = randomlist\n",
    "\n",
    "### Stair shuffle with bucket shuffle\n",
    "b_randomlist = stair_shuffle(sortedlist.copy(), 7)\n",
    "b_randomlist = bucket_shuffle(b_randomlist, 4)\n",
    "b_randomlist = stair_shuffle(b_randomlist, 7)\n",
    "b_randomlist = stair_shuffle(b_randomlist, 7)\n",
    "\n",
    "### Riffle shuffle 7x you get back to original order\n",
    "#b_randomlist = riffle_shuffle(sortedlist.copy())\n",
    "#b_randomlist = riffle_shuffle(b_randomlist)\n",
    "#b_randomlist = riffle_shuffle(b_randomlist)\n",
    "#b_randomlist = riffle_shuffle(b_randomlist)\n",
    "#b_randomlist = riffle_shuffle(b_randomlist)\n",
    "#b_randomlist = riffle_shuffle(b_randomlist)\n",
    "#b_randomlist = riffle_shuffle(b_randomlist)\n",
    "#b_randomlist = riffle_shuffle(b_randomlist)"
   ]
  },
  {
   "cell_type": "code",
   "execution_count": 112,
   "metadata": {},
   "outputs": [
    {
     "data": {
      "image/png": "[encoded data removed]",
      "text/plain": [
       "<Figure size 432x288 with 1 Axes>"
      ]
     },
     "metadata": {
      "needs_background": "light"
     },
     "output_type": "display_data"
    },
    {
     "data": {
      "image/png": "[encoded data removed]",
      "text/plain": [
       "<Figure size 432x288 with 1 Axes>"
      ]
     },
     "metadata": {
      "needs_background": "light"
     },
     "output_type": "display_data"
    },
    {
     "data": {
      "image/png": "[encoded data removed]",
      "text/plain": [
       "<Figure size 432x288 with 1 Axes>"
      ]
     },
     "metadata": {
      "needs_background": "light"
     },
     "output_type": "display_data"
    },
    {
     "data": {
      "image/png": "[encoded data removed]",
      "text/plain": [
       "<Figure size 432x288 with 1 Axes>"
      ]
     },
     "metadata": {
      "needs_background": "light"
     },
     "output_type": "display_data"
    }
   ],
   "source": [
    "from matplotlib import pyplot as plt\n",
    "plt.scatter(sortedlist, a_randomlist)\n",
    "plt.show()\n",
    "plt.scatter(sortedlist, b_randomlist)\n",
    "plt.show()\n",
    "xx, yy = displacement(sortedlist, a_randomlist)\n",
    "plt.bar(xx, yy)\n",
    "plt.show()\n",
    "xx, yy = displacement(sortedlist, b_randomlist)\n",
    "plt.bar(xx, yy)\n",
    "plt.show()"
   ]
  },
  {
   "cell_type": "code",
   "execution_count": null,
   "metadata": {},
   "outputs": [],
   "source": []
  }
 ],
 "metadata": {
  "kernelspec": {
   "display_name": "shuffle-cards",
   "language": "python",
   "name": "shuffle-cards"
  },
  "language_info": {
   "codemirror_mode": {
    "name": "ipython",
    "version": 3
   },
   "file_extension": ".py",
   "mimetype": "text/x-python",
   "name": "python",
   "nbconvert_exporter": "python",
   "pygments_lexer": "ipython3",
   "version": "3.8.5"
  }
 },
 "nbformat": 4,
 "nbformat_minor": 4
}
